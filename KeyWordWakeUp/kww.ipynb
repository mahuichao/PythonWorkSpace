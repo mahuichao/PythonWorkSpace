{
 "cells": [
  {
   "cell_type": "code",
   "execution_count": 2,
   "metadata": {},
   "outputs": [
    {
     "name": "stderr",
     "output_type": "stream",
     "text": [
      "Using TensorFlow backend.\n"
     ]
    }
   ],
   "source": [
    "import numpy as np\n",
    "import random\n",
    "import sys\n",
    "import io\n",
    "import os\n",
    "import glob\n",
    "import IPython\n",
    "import matplotlib.pyplot as plt\n",
    "import librosa\n",
    "import librosa.display\n",
    "\n",
    "from keras.models import load_model"
   ]
  },
  {
   "cell_type": "code",
   "execution_count": 16,
   "metadata": {},
   "outputs": [
    {
     "name": "stdout",
     "output_type": "stream",
     "text": [
      "(513, 313)\n"
     ]
    }
   ],
   "source": [
    "# 画出语谱图 从图中我们其实可以看出来，针对语谱图进行DNN建模会比在时域建模更有效\n",
    "def show_wav_spect(wav_path):\n",
    "    data_,_=librosa.load(wav_path,16000)\n",
    "    fdata_=librosa.stft(data_,n_fft=1024,hop_length=512,win_length=1024,window='hann')\n",
    "    #print(type(fdata_))\n",
    "    abdata_=np.abs(fdata_)\n",
    "    #dbdata_=librosa.amplitude_to_db(abdata_,ref=np.max)\n",
    "    #librosa.display.specshow(dbdata_,sr=16000,y_axis='linear')\n",
    "    #plt.colorbar(format='%+2.0f dB')\n",
    "    #plt.title('Linear-frequency power spectrogram')\n",
    "    return abdata_\n",
    "    \n",
    "abdata=show_wav_spect(\"./data/background/bg_01.wav\")\n",
    "# 能够借此看出来，我们的时间步长为313，每个步长上的频谱为513个\n",
    "print(abdata.shape)\n",
    "n_freq=513\n",
    "Tx=313\n",
    "Ty=125"
   ]
  },
  {
   "cell_type": "code",
   "execution_count": 17,
   "metadata": {},
   "outputs": [],
   "source": [
    "# 由于语音不好打标签，我们采用背景噪声+唤醒词+非唤醒词这种组合来拼凑带标签数据\n",
    "# 比如一个10s的背景噪声与一个2s的唤醒词组合得到一个10s的组合声音\n",
    "# 我们这里定义四个函数来完成数据的准备工作：\n",
    "# get_random_insert_pos(data_)\n",
    "# is_overlapping(existing_segments, pos)\n",
    "# insert_audio_clip(background, audio_clip, existing_segments)\n",
    "# insert_ones(y, segment_end_pos)\n",
    "# 同时我还需要增加一个自己版本的overlay,用于合并音频\n",
    "# overlay(bg,ac,pos)\n",
    "\n",
    "# 合并音频\n",
    "def overlay(bg,ac,pos):\n",
    "    start_pos,end_pos=pos\n",
    "    tmp=np.zeros(len(bg))\n",
    "    tmp[start_pos:end_pos+1]=ac\n",
    "    combine=(tmp+bg)/2\n",
    "    return combine\n"
   ]
  },
  {
   "cell_type": "code",
   "execution_count": 18,
   "metadata": {},
   "outputs": [],
   "source": [
    "# 获取随机插入位置，不过不应该超过数据总长度-数据长度的位置\n",
    "def get_random_insert_pos(data_,to_insert_len):\n",
    "    #start_pos,end_pos=pos\n",
    "    #to_insert_len=end_pos-start_pos\n",
    "    pos=np.random.randint(0,len(data_)-1-to_insert_len)\n",
    "    return (pos,pos+to_insert_len-1)"
   ]
  },
  {
   "cell_type": "code",
   "execution_count": 19,
   "metadata": {},
   "outputs": [],
   "source": [
    "# 判断是否有重叠，最大的开始端 <  最小的结束端点\n",
    "def is_overlapping(existing_segments,pos):\n",
    "    start_pos,end_pos=pos\n",
    "    for e_start_pos,e_end_pos in existing_segments:\n",
    "            if max(e_start_pos,start_pos) < min(end_pos,e_end_pos):\n",
    "                return False\n",
    "    return True       "
   ]
  },
  {
   "cell_type": "code",
   "execution_count": 20,
   "metadata": {},
   "outputs": [],
   "source": [
    "# 插入音频\n",
    "def insert_audio_clip(background,audio_clip,existing_segments):\n",
    "    # 随机找到一个插入位置\n",
    "    pos=get_random_insert_pos(background,len(audio_clip))\n",
    "    #print(len(audio_clip))\n",
    "    #print(pos[1]-pos[0])\n",
    "    # 判断需要插入的位置是否已经插入了别的音频 各个段之间是否会有交叉\n",
    "    while(is_overlapping(existing_segments,pos)):\n",
    "        existing_segments.append(pos)\n",
    "    background=overlay(background,audio_clip,pos)\n",
    "    return background,existing_segments"
   ]
  },
  {
   "cell_type": "code",
   "execution_count": 21,
   "metadata": {},
   "outputs": [],
   "source": [
    "# 主要用来生成标签\n",
    "# 之所以这里有个50是因为我们认为50个时间段内，算法监测到唤醒词终点我们都认为是可以接受的\n",
    "def insert_ones(y,segments_end_pos):\n",
    "    segments_end_pos=int(segments_end_pos*Ty/160000)\n",
    "    label=np.zeros(len(y))\n",
    "    for ep in range(segments_end_pos,segments_end_pos+51):\n",
    "        if(ep<len(y)):\n",
    "            label[ep]=1\n",
    "        else:\n",
    "            return label\n",
    "    return label"
   ]
  },
  {
   "cell_type": "code",
   "execution_count": 22,
   "metadata": {},
   "outputs": [],
   "source": [
    "def get_train_example():\n",
    "    ac=\"./data/activate\"\n",
    "    bg=\"./data/background\"\n",
    "    ne=\"./data/negative\"\n",
    "    fs=16000\n",
    "    num_examples=100\n",
    "    X_train=np.zeros((num_examples,n_freq,Tx))\n",
    "    Y_train=np.zeros((num_examples,Ty,1))\n",
    "\n",
    "    # 我们生成10条训练数据\n",
    "    for i in range(0,num_examples):\n",
    "        file_name=\"./data/train_example/\"+str(i)+\".wav\"\n",
    "        audio_clip_file=ac+\"/hot_0\"+str(random.randint(1,4))+\".wav\"\n",
    "        ne_clip_file=ne+\"/ne_0\"+str(random.randint(1,3))+\".wav\"\n",
    "        bg_file=bg+\"/bg_0\"+str(random.randint(1,2))+\".wav\"\n",
    "        \n",
    "        fs=16000\n",
    "        audio_clip,_=librosa.load(audio_clip_file,fs)\n",
    "        ne_clip,_=librosa.load(ne_clip_file,fs)\n",
    "        background,_=librosa.load(bg_file,fs)\n",
    "        \n",
    "        \n",
    "        existing_segments=list()\n",
    "        if i%2==0:\n",
    "            train_example,existing_segments=insert_audio_clip(background,audio_clip,existing_segments)\n",
    "            for s,e in existing_segments:\n",
    "                Y_train[i,:,0]=insert_ones(Y_train[i,:,0],e)   \n",
    "            \n",
    "        train_example,_=insert_audio_clip(train_example,ne_clip,existing_segments)\n",
    "        librosa.output.write_wav(file_name,train_example,fs)\n",
    "        X_train[i,:,:]=show_wav_spect(file_name)\n",
    "        \n",
    "    return X_train,Y_train\n",
    "        \n",
    "X_train,Y_train=get_train_example()"
   ]
  },
  {
   "cell_type": "code",
   "execution_count": 23,
   "metadata": {},
   "outputs": [],
   "source": [
    "from keras.callbacks import ModelCheckpoint\n",
    "from keras.models import Model, load_model, Sequential\n",
    "from keras.layers import Dense, Activation, Dropout, Input, Masking, TimeDistributed, LSTM, Conv1D\n",
    "from keras.layers import GRU, Bidirectional, BatchNormalization, Reshape\n",
    "from keras.optimizers import Adam"
   ]
  },
  {
   "cell_type": "code",
   "execution_count": 24,
   "metadata": {},
   "outputs": [],
   "source": [
    "def model(input_shape):\n",
    "    X_input=Input(input_shape)\n",
    "     # Step 1: CONV layer (≈4 lines)\n",
    "    X = Conv1D(196, 15, strides=4)(X_input)                    # CONV1D\n",
    "    X = BatchNormalization()(X)                                # Batch normalization\n",
    "    X = Activation('relu')(X)                                  # ReLu activation\n",
    "    X = Dropout(0.8)(X)                                        # dropout (use 0.8)\n",
    "\n",
    "    # Step 2: First GRU Layer (≈4 lines)\n",
    "    X = GRU(units = 128, return_sequences=True)(X)             # GRU (use 128 units and return the sequences)\n",
    "    X = Dropout(0.8)(X)                                        # dropout (use 0.8)\n",
    "    X = BatchNormalization()(X)                                # Batch normalization\n",
    "    \n",
    "    # Step 3: Second GRU Layer (≈4 lines)\n",
    "    X = GRU(units = 128, return_sequences=True)(X)             # GRU (use 128 units and return the sequences)\n",
    "    X = Dropout(0.8)(X)                                        # dropout (use 0.8)\n",
    "    X = BatchNormalization()(X)                                # Batch normalization\n",
    "    X = Dropout(0.8)(X)                                        # dropout (use 0.8)\n",
    "    \n",
    "    # Step 4: Time-distributed dense layer (≈1 line)\n",
    "    X = TimeDistributed(Dense(1, activation = \"sigmoid\"))(X) # time distributed  (sigmoid)\n",
    "\n",
    "    ### END CODE HERE ###\n",
    "\n",
    "    model = Model(inputs = X_input, outputs = X)\n",
    "    \n",
    "    return model  "
   ]
  },
  {
   "cell_type": "code",
   "execution_count": 25,
   "metadata": {},
   "outputs": [],
   "source": [
    "model = model(input_shape = (n_freq, Tx))"
   ]
  },
  {
   "cell_type": "code",
   "execution_count": 26,
   "metadata": {},
   "outputs": [
    {
     "name": "stdout",
     "output_type": "stream",
     "text": [
      "_________________________________________________________________\n",
      "Layer (type)                 Output Shape              Param #   \n",
      "=================================================================\n",
      "input_1 (InputLayer)         (None, 513, 313)          0         \n",
      "_________________________________________________________________\n",
      "conv1d_1 (Conv1D)            (None, 125, 196)          920416    \n",
      "_________________________________________________________________\n",
      "batch_normalization_1 (Batch (None, 125, 196)          784       \n",
      "_________________________________________________________________\n",
      "activation_1 (Activation)    (None, 125, 196)          0         \n",
      "_________________________________________________________________\n",
      "dropout_1 (Dropout)          (None, 125, 196)          0         \n",
      "_________________________________________________________________\n",
      "gru_1 (GRU)                  (None, 125, 128)          124800    \n",
      "_________________________________________________________________\n",
      "dropout_2 (Dropout)          (None, 125, 128)          0         \n",
      "_________________________________________________________________\n",
      "batch_normalization_2 (Batch (None, 125, 128)          512       \n",
      "_________________________________________________________________\n",
      "gru_2 (GRU)                  (None, 125, 128)          98688     \n",
      "_________________________________________________________________\n",
      "dropout_3 (Dropout)          (None, 125, 128)          0         \n",
      "_________________________________________________________________\n",
      "batch_normalization_3 (Batch (None, 125, 128)          512       \n",
      "_________________________________________________________________\n",
      "dropout_4 (Dropout)          (None, 125, 128)          0         \n",
      "_________________________________________________________________\n",
      "time_distributed_1 (TimeDist (None, 125, 1)            129       \n",
      "=================================================================\n",
      "Total params: 1,145,841\n",
      "Trainable params: 1,144,937\n",
      "Non-trainable params: 904\n",
      "_________________________________________________________________\n"
     ]
    }
   ],
   "source": [
    "model.summary()"
   ]
  },
  {
   "cell_type": "code",
   "execution_count": 27,
   "metadata": {},
   "outputs": [],
   "source": [
    "opt = Adam(lr=0.001, beta_1=0.9, beta_2=0.999, decay=0.01)\n",
    "model.compile(loss='binary_crossentropy', optimizer=opt, metrics=[\"accuracy\"])"
   ]
  },
  {
   "cell_type": "code",
   "execution_count": 28,
   "metadata": {},
   "outputs": [
    {
     "name": "stdout",
     "output_type": "stream",
     "text": [
      "(100, 513, 313)\n",
      "(100, 125, 1)\n"
     ]
    }
   ],
   "source": [
    "#model.fit(X_train, Y_train, batch_size = 5, epochs=1)\n",
    "print(X_train.shape)\n",
    "print(Y_train.shape)"
   ]
  },
  {
   "cell_type": "code",
   "execution_count": 29,
   "metadata": {},
   "outputs": [
    {
     "name": "stdout",
     "output_type": "stream",
     "text": [
      "Epoch 1/300\n",
      "100/100 [==============================] - 6s 58ms/step - loss: 1.1994 - acc: 0.5260\n",
      "Epoch 2/300\n",
      "100/100 [==============================] - 4s 38ms/step - loss: 1.0358 - acc: 0.5494\n",
      "Epoch 3/300\n",
      "100/100 [==============================] - 4s 38ms/step - loss: 0.9285 - acc: 0.5720\n",
      "Epoch 4/300\n",
      "100/100 [==============================] - 4s 38ms/step - loss: 0.8548 - acc: 0.5906\n",
      "Epoch 5/300\n",
      "100/100 [==============================] - 4s 39ms/step - loss: 0.7842 - acc: 0.6167\n",
      "Epoch 6/300\n",
      "100/100 [==============================] - 4s 40ms/step - loss: 0.7581 - acc: 0.6246\n",
      "Epoch 7/300\n",
      "100/100 [==============================] - 4s 42ms/step - loss: 0.6977 - acc: 0.6514\n",
      "Epoch 8/300\n",
      "100/100 [==============================] - 4s 41ms/step - loss: 0.6785 - acc: 0.6590\n",
      "Epoch 9/300\n",
      "100/100 [==============================] - 4s 41ms/step - loss: 0.6600 - acc: 0.6674\n",
      "Epoch 10/300\n",
      "100/100 [==============================] - 4s 41ms/step - loss: 0.6226 - acc: 0.6942\n",
      "Epoch 11/300\n",
      "100/100 [==============================] - 4s 41ms/step - loss: 0.6138 - acc: 0.7003\n",
      "Epoch 12/300\n",
      "100/100 [==============================] - 4s 41ms/step - loss: 0.5939 - acc: 0.7082\n",
      "Epoch 13/300\n",
      "100/100 [==============================] - 4s 40ms/step - loss: 0.5704 - acc: 0.7270\n",
      "Epoch 14/300\n",
      "100/100 [==============================] - 4s 41ms/step - loss: 0.5634 - acc: 0.7297\n",
      "Epoch 15/300\n",
      "100/100 [==============================] - 4s 41ms/step - loss: 0.5459 - acc: 0.7458\n",
      "Epoch 16/300\n",
      "100/100 [==============================] - 4s 43ms/step - loss: 0.5142 - acc: 0.7651\n",
      "Epoch 17/300\n",
      " 45/100 [============>.................] - ETA: 2s - loss: 0.4949 - acc: 0.7865"
     ]
    },
    {
     "ename": "KeyboardInterrupt",
     "evalue": "",
     "output_type": "error",
     "traceback": [
      "\u001b[0;31m---------------------------------------------------------------------------\u001b[0m",
      "\u001b[0;31mKeyboardInterrupt\u001b[0m                         Traceback (most recent call last)",
      "\u001b[0;32m<ipython-input-29-f7ea36372da7>\u001b[0m in \u001b[0;36m<module>\u001b[0;34m\u001b[0m\n\u001b[0;32m----> 1\u001b[0;31m \u001b[0mmodel\u001b[0m\u001b[0;34m.\u001b[0m\u001b[0mfit\u001b[0m\u001b[0;34m(\u001b[0m\u001b[0mX_train\u001b[0m\u001b[0;34m,\u001b[0m \u001b[0mY_train\u001b[0m\u001b[0;34m,\u001b[0m \u001b[0mbatch_size\u001b[0m \u001b[0;34m=\u001b[0m\u001b[0;36m5\u001b[0m\u001b[0;34m,\u001b[0m \u001b[0mepochs\u001b[0m\u001b[0;34m=\u001b[0m\u001b[0;36m300\u001b[0m\u001b[0;34m)\u001b[0m\u001b[0;34m\u001b[0m\u001b[0;34m\u001b[0m\u001b[0m\n\u001b[0m",
      "\u001b[0;32m/anaconda3/envs/tensorflow/lib/python3.6/site-packages/keras/engine/training.py\u001b[0m in \u001b[0;36mfit\u001b[0;34m(self, x, y, batch_size, epochs, verbose, callbacks, validation_split, validation_data, shuffle, class_weight, sample_weight, initial_epoch, steps_per_epoch, validation_steps, **kwargs)\u001b[0m\n\u001b[1;32m   1037\u001b[0m                                         \u001b[0minitial_epoch\u001b[0m\u001b[0;34m=\u001b[0m\u001b[0minitial_epoch\u001b[0m\u001b[0;34m,\u001b[0m\u001b[0;34m\u001b[0m\u001b[0;34m\u001b[0m\u001b[0m\n\u001b[1;32m   1038\u001b[0m                                         \u001b[0msteps_per_epoch\u001b[0m\u001b[0;34m=\u001b[0m\u001b[0msteps_per_epoch\u001b[0m\u001b[0;34m,\u001b[0m\u001b[0;34m\u001b[0m\u001b[0;34m\u001b[0m\u001b[0m\n\u001b[0;32m-> 1039\u001b[0;31m                                         validation_steps=validation_steps)\n\u001b[0m\u001b[1;32m   1040\u001b[0m \u001b[0;34m\u001b[0m\u001b[0m\n\u001b[1;32m   1041\u001b[0m     def evaluate(self, x=None, y=None,\n",
      "\u001b[0;32m/anaconda3/envs/tensorflow/lib/python3.6/site-packages/keras/engine/training_arrays.py\u001b[0m in \u001b[0;36mfit_loop\u001b[0;34m(model, f, ins, out_labels, batch_size, epochs, verbose, callbacks, val_f, val_ins, shuffle, callback_metrics, initial_epoch, steps_per_epoch, validation_steps)\u001b[0m\n\u001b[1;32m    197\u001b[0m                     \u001b[0mins_batch\u001b[0m\u001b[0;34m[\u001b[0m\u001b[0mi\u001b[0m\u001b[0;34m]\u001b[0m \u001b[0;34m=\u001b[0m \u001b[0mins_batch\u001b[0m\u001b[0;34m[\u001b[0m\u001b[0mi\u001b[0m\u001b[0;34m]\u001b[0m\u001b[0;34m.\u001b[0m\u001b[0mtoarray\u001b[0m\u001b[0;34m(\u001b[0m\u001b[0;34m)\u001b[0m\u001b[0;34m\u001b[0m\u001b[0;34m\u001b[0m\u001b[0m\n\u001b[1;32m    198\u001b[0m \u001b[0;34m\u001b[0m\u001b[0m\n\u001b[0;32m--> 199\u001b[0;31m                 \u001b[0mouts\u001b[0m \u001b[0;34m=\u001b[0m \u001b[0mf\u001b[0m\u001b[0;34m(\u001b[0m\u001b[0mins_batch\u001b[0m\u001b[0;34m)\u001b[0m\u001b[0;34m\u001b[0m\u001b[0;34m\u001b[0m\u001b[0m\n\u001b[0m\u001b[1;32m    200\u001b[0m                 \u001b[0mouts\u001b[0m \u001b[0;34m=\u001b[0m \u001b[0mto_list\u001b[0m\u001b[0;34m(\u001b[0m\u001b[0mouts\u001b[0m\u001b[0;34m)\u001b[0m\u001b[0;34m\u001b[0m\u001b[0;34m\u001b[0m\u001b[0m\n\u001b[1;32m    201\u001b[0m                 \u001b[0;32mfor\u001b[0m \u001b[0ml\u001b[0m\u001b[0;34m,\u001b[0m \u001b[0mo\u001b[0m \u001b[0;32min\u001b[0m \u001b[0mzip\u001b[0m\u001b[0;34m(\u001b[0m\u001b[0mout_labels\u001b[0m\u001b[0;34m,\u001b[0m \u001b[0mouts\u001b[0m\u001b[0;34m)\u001b[0m\u001b[0;34m:\u001b[0m\u001b[0;34m\u001b[0m\u001b[0;34m\u001b[0m\u001b[0m\n",
      "\u001b[0;32m/anaconda3/envs/tensorflow/lib/python3.6/site-packages/keras/backend/tensorflow_backend.py\u001b[0m in \u001b[0;36m__call__\u001b[0;34m(self, inputs)\u001b[0m\n\u001b[1;32m   2713\u001b[0m                 \u001b[0;32mreturn\u001b[0m \u001b[0mself\u001b[0m\u001b[0;34m.\u001b[0m\u001b[0m_legacy_call\u001b[0m\u001b[0;34m(\u001b[0m\u001b[0minputs\u001b[0m\u001b[0;34m)\u001b[0m\u001b[0;34m\u001b[0m\u001b[0;34m\u001b[0m\u001b[0m\n\u001b[1;32m   2714\u001b[0m \u001b[0;34m\u001b[0m\u001b[0m\n\u001b[0;32m-> 2715\u001b[0;31m             \u001b[0;32mreturn\u001b[0m \u001b[0mself\u001b[0m\u001b[0;34m.\u001b[0m\u001b[0m_call\u001b[0m\u001b[0;34m(\u001b[0m\u001b[0minputs\u001b[0m\u001b[0;34m)\u001b[0m\u001b[0;34m\u001b[0m\u001b[0;34m\u001b[0m\u001b[0m\n\u001b[0m\u001b[1;32m   2716\u001b[0m         \u001b[0;32melse\u001b[0m\u001b[0;34m:\u001b[0m\u001b[0;34m\u001b[0m\u001b[0;34m\u001b[0m\u001b[0m\n\u001b[1;32m   2717\u001b[0m             \u001b[0;32mif\u001b[0m \u001b[0mpy_any\u001b[0m\u001b[0;34m(\u001b[0m\u001b[0mis_tensor\u001b[0m\u001b[0;34m(\u001b[0m\u001b[0mx\u001b[0m\u001b[0;34m)\u001b[0m \u001b[0;32mfor\u001b[0m \u001b[0mx\u001b[0m \u001b[0;32min\u001b[0m \u001b[0minputs\u001b[0m\u001b[0;34m)\u001b[0m\u001b[0;34m:\u001b[0m\u001b[0;34m\u001b[0m\u001b[0;34m\u001b[0m\u001b[0m\n",
      "\u001b[0;32m/anaconda3/envs/tensorflow/lib/python3.6/site-packages/keras/backend/tensorflow_backend.py\u001b[0m in \u001b[0;36m_call\u001b[0;34m(self, inputs)\u001b[0m\n\u001b[1;32m   2673\u001b[0m             \u001b[0mfetched\u001b[0m \u001b[0;34m=\u001b[0m \u001b[0mself\u001b[0m\u001b[0;34m.\u001b[0m\u001b[0m_callable_fn\u001b[0m\u001b[0;34m(\u001b[0m\u001b[0;34m*\u001b[0m\u001b[0marray_vals\u001b[0m\u001b[0;34m,\u001b[0m \u001b[0mrun_metadata\u001b[0m\u001b[0;34m=\u001b[0m\u001b[0mself\u001b[0m\u001b[0;34m.\u001b[0m\u001b[0mrun_metadata\u001b[0m\u001b[0;34m)\u001b[0m\u001b[0;34m\u001b[0m\u001b[0;34m\u001b[0m\u001b[0m\n\u001b[1;32m   2674\u001b[0m         \u001b[0;32melse\u001b[0m\u001b[0;34m:\u001b[0m\u001b[0;34m\u001b[0m\u001b[0;34m\u001b[0m\u001b[0m\n\u001b[0;32m-> 2675\u001b[0;31m             \u001b[0mfetched\u001b[0m \u001b[0;34m=\u001b[0m \u001b[0mself\u001b[0m\u001b[0;34m.\u001b[0m\u001b[0m_callable_fn\u001b[0m\u001b[0;34m(\u001b[0m\u001b[0;34m*\u001b[0m\u001b[0marray_vals\u001b[0m\u001b[0;34m)\u001b[0m\u001b[0;34m\u001b[0m\u001b[0;34m\u001b[0m\u001b[0m\n\u001b[0m\u001b[1;32m   2676\u001b[0m         \u001b[0;32mreturn\u001b[0m \u001b[0mfetched\u001b[0m\u001b[0;34m[\u001b[0m\u001b[0;34m:\u001b[0m\u001b[0mlen\u001b[0m\u001b[0;34m(\u001b[0m\u001b[0mself\u001b[0m\u001b[0;34m.\u001b[0m\u001b[0moutputs\u001b[0m\u001b[0;34m)\u001b[0m\u001b[0;34m]\u001b[0m\u001b[0;34m\u001b[0m\u001b[0;34m\u001b[0m\u001b[0m\n\u001b[1;32m   2677\u001b[0m \u001b[0;34m\u001b[0m\u001b[0m\n",
      "\u001b[0;32m/anaconda3/envs/tensorflow/lib/python3.6/site-packages/tensorflow/python/client/session.py\u001b[0m in \u001b[0;36m__call__\u001b[0;34m(self, *args, **kwargs)\u001b[0m\n\u001b[1;32m   1437\u001b[0m           ret = tf_session.TF_SessionRunCallable(\n\u001b[1;32m   1438\u001b[0m               \u001b[0mself\u001b[0m\u001b[0;34m.\u001b[0m\u001b[0m_session\u001b[0m\u001b[0;34m.\u001b[0m\u001b[0m_session\u001b[0m\u001b[0;34m,\u001b[0m \u001b[0mself\u001b[0m\u001b[0;34m.\u001b[0m\u001b[0m_handle\u001b[0m\u001b[0;34m,\u001b[0m \u001b[0margs\u001b[0m\u001b[0;34m,\u001b[0m \u001b[0mstatus\u001b[0m\u001b[0;34m,\u001b[0m\u001b[0;34m\u001b[0m\u001b[0;34m\u001b[0m\u001b[0m\n\u001b[0;32m-> 1439\u001b[0;31m               run_metadata_ptr)\n\u001b[0m\u001b[1;32m   1440\u001b[0m         \u001b[0;32mif\u001b[0m \u001b[0mrun_metadata\u001b[0m\u001b[0;34m:\u001b[0m\u001b[0;34m\u001b[0m\u001b[0;34m\u001b[0m\u001b[0m\n\u001b[1;32m   1441\u001b[0m           \u001b[0mproto_data\u001b[0m \u001b[0;34m=\u001b[0m \u001b[0mtf_session\u001b[0m\u001b[0;34m.\u001b[0m\u001b[0mTF_GetBuffer\u001b[0m\u001b[0;34m(\u001b[0m\u001b[0mrun_metadata_ptr\u001b[0m\u001b[0;34m)\u001b[0m\u001b[0;34m\u001b[0m\u001b[0;34m\u001b[0m\u001b[0m\n",
      "\u001b[0;31mKeyboardInterrupt\u001b[0m: "
     ]
    }
   ],
   "source": [
    "model.fit(X_train, Y_train, batch_size =5, epochs=300)"
   ]
  },
  {
   "cell_type": "code",
   "execution_count": 3,
   "metadata": {},
   "outputs": [
    {
     "ename": "FileNotFoundError",
     "evalue": "[Errno 2] No such file or directory: './data/dev/X_dev.npy'",
     "output_type": "error",
     "traceback": [
      "\u001b[0;31m---------------------------------------------------------------------------\u001b[0m",
      "\u001b[0;31mFileNotFoundError\u001b[0m                         Traceback (most recent call last)",
      "\u001b[0;32m<ipython-input-3-e6a684101452>\u001b[0m in \u001b[0;36m<module>\u001b[0;34m\u001b[0m\n\u001b[1;32m      1\u001b[0m \u001b[0;31m#model.save(\"./models/300_epoch.h5\")\u001b[0m\u001b[0;34m\u001b[0m\u001b[0;34m\u001b[0m\u001b[0;34m\u001b[0m\u001b[0m\n\u001b[1;32m      2\u001b[0m \u001b[0mmodel\u001b[0m\u001b[0;34m=\u001b[0m\u001b[0mload_model\u001b[0m\u001b[0;34m(\u001b[0m\u001b[0;34m\"./models/300_epoch.h5\"\u001b[0m\u001b[0;34m)\u001b[0m\u001b[0;34m\u001b[0m\u001b[0;34m\u001b[0m\u001b[0m\n\u001b[0;32m----> 3\u001b[0;31m \u001b[0mX_dev\u001b[0m \u001b[0;34m=\u001b[0m \u001b[0mnp\u001b[0m\u001b[0;34m.\u001b[0m\u001b[0mload\u001b[0m\u001b[0;34m(\u001b[0m\u001b[0;34m\"./data/dev/X_dev.npy\"\u001b[0m\u001b[0;34m)\u001b[0m\u001b[0;34m\u001b[0m\u001b[0;34m\u001b[0m\u001b[0m\n\u001b[0m\u001b[1;32m      4\u001b[0m \u001b[0mY_dev\u001b[0m \u001b[0;34m=\u001b[0m \u001b[0mnp\u001b[0m\u001b[0;34m.\u001b[0m\u001b[0mload\u001b[0m\u001b[0;34m(\u001b[0m\u001b[0;34m\"./data/dev/Y_dev.npy\"\u001b[0m\u001b[0;34m)\u001b[0m\u001b[0;34m\u001b[0m\u001b[0;34m\u001b[0m\u001b[0m\n",
      "\u001b[0;32m/anaconda3/envs/tensorflow/lib/python3.6/site-packages/numpy/lib/npyio.py\u001b[0m in \u001b[0;36mload\u001b[0;34m(file, mmap_mode, allow_pickle, fix_imports, encoding)\u001b[0m\n\u001b[1;32m    382\u001b[0m     \u001b[0mown_fid\u001b[0m \u001b[0;34m=\u001b[0m \u001b[0;32mFalse\u001b[0m\u001b[0;34m\u001b[0m\u001b[0;34m\u001b[0m\u001b[0m\n\u001b[1;32m    383\u001b[0m     \u001b[0;32mif\u001b[0m \u001b[0misinstance\u001b[0m\u001b[0;34m(\u001b[0m\u001b[0mfile\u001b[0m\u001b[0;34m,\u001b[0m \u001b[0mbasestring\u001b[0m\u001b[0;34m)\u001b[0m\u001b[0;34m:\u001b[0m\u001b[0;34m\u001b[0m\u001b[0;34m\u001b[0m\u001b[0m\n\u001b[0;32m--> 384\u001b[0;31m         \u001b[0mfid\u001b[0m \u001b[0;34m=\u001b[0m \u001b[0mopen\u001b[0m\u001b[0;34m(\u001b[0m\u001b[0mfile\u001b[0m\u001b[0;34m,\u001b[0m \u001b[0;34m\"rb\"\u001b[0m\u001b[0;34m)\u001b[0m\u001b[0;34m\u001b[0m\u001b[0;34m\u001b[0m\u001b[0m\n\u001b[0m\u001b[1;32m    385\u001b[0m         \u001b[0mown_fid\u001b[0m \u001b[0;34m=\u001b[0m \u001b[0;32mTrue\u001b[0m\u001b[0;34m\u001b[0m\u001b[0;34m\u001b[0m\u001b[0m\n\u001b[1;32m    386\u001b[0m     \u001b[0;32melif\u001b[0m \u001b[0mis_pathlib_path\u001b[0m\u001b[0;34m(\u001b[0m\u001b[0mfile\u001b[0m\u001b[0;34m)\u001b[0m\u001b[0;34m:\u001b[0m\u001b[0;34m\u001b[0m\u001b[0;34m\u001b[0m\u001b[0m\n",
      "\u001b[0;31mFileNotFoundError\u001b[0m: [Errno 2] No such file or directory: './data/dev/X_dev.npy'"
     ]
    }
   ],
   "source": [
    "#model.save(\"./models/300_epoch.h5\")\n",
    "model=load_model(\"./models/300_epoch.h5\")\n",
    "X_dev = np.load(\"./data/dev/X_dev.npy\")\n",
    "Y_dev = np.load(\"./data/dev/Y_dev.npy\")"
   ]
  },
  {
   "cell_type": "code",
   "execution_count": 34,
   "metadata": {},
   "outputs": [
    {
     "name": "stdout",
     "output_type": "stream",
     "text": [
      "(100, 513, 313)\n",
      "(100, 125, 1)\n"
     ]
    }
   ],
   "source": [
    "print(X_dev.shape)\n",
    "print(Y_dev.shape)"
   ]
  },
  {
   "cell_type": "code",
   "execution_count": 35,
   "metadata": {},
   "outputs": [
    {
     "name": "stdout",
     "output_type": "stream",
     "text": [
      "100/100 [==============================] - 0s 4ms/step\n",
      "Dev set accuracy =  0.8068000078201294\n"
     ]
    }
   ],
   "source": [
    "loss, acc = model.evaluate(X_dev, Y_dev)\n",
    "print(\"Dev set accuracy = \", acc)"
   ]
  },
  {
   "cell_type": "code",
   "execution_count": 4,
   "metadata": {},
   "outputs": [],
   "source": [
    "def detect_triggerword(filename,threshold):\n",
    "    plt.subplot(2, 1, 1)\n",
    "\n",
    "    x = show_wav_spect(filename)\n",
    "    x_=librosa.amplitude_to_db(x,ref=np.max)\n",
    "    librosa.display.specshow(x_,sr=16000,y_axis='linear')\n",
    "    plt.colorbar(format='%+2.0f dB')\n",
    "    plt.title('Linear-frequency power spectrogram')\n",
    "    \n",
    "    #x  = x.swapaxes(0,1)\n",
    "    x = np.expand_dims(x, axis=0)\n",
    "    predictions = model.predict(x)\n",
    "    print(predictions.shape)\n",
    "    print(predictions[0,:,0])\n",
    "    \n",
    "    plt.subplot(2, 1, 2)\n",
    "    plt.plot(predictions[0,:,0])\n",
    "    plt.ylabel('probability')\n",
    "    plt.show()\n",
    "    \n",
    "    Ty = predictions.shape[1]\n",
    "    # Step 1: Initialize the number of consecutive output steps to 0\n",
    "    consecutive_timesteps = 0\n",
    "    # Step 2: Loop over the output steps in the y\n",
    "    for i in range(Ty):\n",
    "        # Step 3: Increment consecutive output steps\n",
    "        consecutive_timesteps += 1\n",
    "        # Step 4: If prediction is higher than the threshold and more than 75 consecutive output steps have passed\n",
    "        if predictions[0,i,0] > threshold and consecutive_timesteps > 50:\n",
    "            # Step 5: Superpose audio and background using pydub\n",
    "            print(\"小朗浪起来～\")\n",
    "            # Step 6: Reset consecutive output steps to 0\n",
    "            consecutive_timesteps = 0\n",
    "            return\n",
    "    \n",
    "    return predictions"
   ]
  },
  {
   "cell_type": "code",
   "execution_count": 15,
   "metadata": {
    "scrolled": true
   },
   "outputs": [
    {
     "name": "stdout",
     "output_type": "stream",
     "text": [
      "(1, 125, 1)\n",
      "[1.9943453e-02 3.5728035e-03 9.1346412e-04 3.4978974e-04 1.9691016e-04\n",
      " 1.5204216e-04 1.4215276e-04 1.0851430e-04 9.4534887e-05 8.4551670e-05\n",
      " 8.1687016e-05 7.5534626e-05 7.3954274e-05 6.4954664e-05 6.5780594e-05\n",
      " 6.1506384e-05 6.0829174e-05 6.5417022e-05 6.6599627e-05 7.2492032e-05\n",
      " 8.9995709e-05 1.2048753e-04 1.8167429e-04 3.1410088e-04 5.4197235e-04\n",
      " 8.5483625e-04 1.2541758e-03 1.7747900e-03 2.5034810e-03 3.5953734e-03\n",
      " 5.1081744e-03 6.9267182e-03 9.3092658e-03 1.2930103e-02 1.8637067e-02\n",
      " 2.8082240e-02 4.6069797e-02 8.1230640e-02 1.5270175e-01 2.9388404e-01\n",
      " 5.1761752e-01 7.5425589e-01 9.0585065e-01 9.6883047e-01 9.8925120e-01\n",
      " 9.9561441e-01 9.9778807e-01 9.9860954e-01 9.9896502e-01 9.9913162e-01\n",
      " 9.9921012e-01 9.9923837e-01 9.9924266e-01 9.9923706e-01 9.9923193e-01\n",
      " 9.9922669e-01 9.9922967e-01 9.9923670e-01 9.9925274e-01 9.9927038e-01\n",
      " 9.9931395e-01 9.9937648e-01 9.9943072e-01 9.9947220e-01 9.9949586e-01\n",
      " 9.9950242e-01 9.9950099e-01 9.9949098e-01 9.9947363e-01 9.9944729e-01\n",
      " 9.9941432e-01 9.9937707e-01 9.9933159e-01 9.9927789e-01 9.9921775e-01\n",
      " 9.9914527e-01 9.9906176e-01 9.9896836e-01 9.9886972e-01 9.9877399e-01\n",
      " 9.9868554e-01 9.9858898e-01 9.9847740e-01 9.9836439e-01 9.9827635e-01\n",
      " 9.9821717e-01 9.9819523e-01 9.9821413e-01 9.9827421e-01 9.9838901e-01\n",
      " 9.9850464e-01 9.9859482e-01 9.9867839e-01 9.9875641e-01 9.9880886e-01\n",
      " 9.9885213e-01 9.9888700e-01 9.9891067e-01 9.9892104e-01 9.9896026e-01\n",
      " 9.9906069e-01 9.9916184e-01 9.9922478e-01 9.9925464e-01 9.9925679e-01\n",
      " 9.9923694e-01 9.9919838e-01 9.9914491e-01 9.9907947e-01 9.9900037e-01\n",
      " 9.9890602e-01 9.9879456e-01 9.9865806e-01 9.9849164e-01 9.9829370e-01\n",
      " 9.9805236e-01 9.9775702e-01 9.9738783e-01 9.9691182e-01 9.9629480e-01\n",
      " 9.9547642e-01 9.9434680e-01 9.9275380e-01 9.9046189e-01 9.8707956e-01]\n"
     ]
    },
    {
     "data": {
      "image/png": "[encoded data removed]",
      "text/plain": [
       "<Figure size 432x288 with 3 Axes>"
      ]
     },
     "metadata": {
      "needs_background": "light"
     },
     "output_type": "display_data"
    },
    {
     "name": "stdout",
     "output_type": "stream",
     "text": [
      "小朗浪起来～\n"
     ]
    }
   ],
   "source": [
    "filename = \"./data/dev/0.wav\"\n",
    "prediction = detect_triggerword(filename,0.6)\n",
    "\n",
    "#IPython.display.Audio(\"./chime_output.wav\")"
   ]
  },
  {
   "cell_type": "code",
   "execution_count": null,
   "metadata": {},
   "outputs": [],
   "source": []
  },
  {
   "cell_type": "code",
   "execution_count": null,
   "metadata": {},
   "outputs": [],
   "source": []
  }
 ],
 "metadata": {
  "kernelspec": {
   "display_name": "Python 3",
   "language": "python",
   "name": "python3"
  },
  "language_info": {
   "codemirror_mode": {
    "name": "ipython",
    "version": 3
   },
   "file_extension": ".py",
   "mimetype": "text/x-python",
   "name": "python",
   "nbconvert_exporter": "python",
   "pygments_lexer": "ipython3",
   "version": "3.6.7"
  }
 },
 "nbformat": 4,
 "nbformat_minor": 2
}
